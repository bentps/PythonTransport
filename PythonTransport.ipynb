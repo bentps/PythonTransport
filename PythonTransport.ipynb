{
 "cells": [
  {
   "cell_type": "code",
   "execution_count": 21,
   "metadata": {
    "scrolled": false
   },
   "outputs": [],
   "source": [
    "import numpy as np\n",
    "import matplotlib.pyplot as plt\n",
    "from scipy.optimize import minimize\n",
    "from scipy.optimize import minimize_scalar\n",
    "from scipy.optimize import root\n",
    "from scipy.optimize import newton"
   ]
  },
  {
   "cell_type": "code",
   "execution_count": 2,
   "metadata": {
    "scrolled": false
   },
   "outputs": [],
   "source": [
    "def drift(length):\n",
    "    drift_matrix = np.array([[1., length, 0., 0., 0., 0.],\n",
    "                             [0., 1., 0., 0., 0., 0.],\n",
    "                             [0., 0., 1., length, 0., 0.],\n",
    "                             [0., 0., 0., 1., 0., 0.],\n",
    "                             [0., 0., 0., 0., 1., 0.],\n",
    "                             [0., 0., 0., 0., 0., 1.]])\n",
    "    return drift_matrix\n",
    "\n",
    "def quad(length, gauss, Brho, diameter):\n",
    "    \n",
    "    h = np.abs(gauss/Brho)\n",
    "    c11 = np.cos(length*np.sqrt(10*h/diameter))\n",
    "    c12 = np.sin(length*np.sqrt(10*h/diameter))/np.sqrt(10*h/diameter)\n",
    "    c21 = -np.sin(length*np.sqrt(10*h/diameter))*np.sqrt(10*h/diameter)\n",
    "    d11 = np.cosh(length*np.sqrt(10*h/diameter))\n",
    "    d12 = np.sinh(length*np.sqrt(10*h/diameter))/np.sqrt(10*h/diameter)\n",
    "    d21 = np.sinh(length*np.sqrt(10*h/diameter))*np.sqrt(10*h/diameter)\n",
    "    \n",
    "    quad_matrix = drift(length)\n",
    "    \n",
    "    \n",
    "    if gauss > 0:\n",
    "        quad_matrix = np.array([[c11, c12, 0., 0., 0., 0.],\n",
    "                                [c21, c11, 0., 0., 0., 0.],\n",
    "                                [0., 0., d11, d12, 0., 0.],\n",
    "                                [0., 0., d21, d11, 0., 0.],\n",
    "                                [0., 0., 0., 0., 1., 0.],\n",
    "                                [0., 0., 0., 0., 0., 1.]])\n",
    "    if gauss < 0:\n",
    "        quad_matrix = np.array([[d11, d12, 0., 0., 0., 0.],\n",
    "                                [d21, d11, 0., 0., 0., 0.],\n",
    "                                [0., 0., c11, c12, 0., 0.],\n",
    "                                [0., 0., c21, c11, 0., 0.],\n",
    "                                [0., 0., 0., 0., 1., 0.],\n",
    "                                [0., 0., 0., 0., 0., 1.]])\n",
    "    return quad_matrix"
   ]
  },
  {
   "cell_type": "markdown",
   "metadata": {},
   "source": [
    "Transport workflow:\n",
    "\n",
    "Initialize and name trajectory.\n",
    "\n",
    "set the kV.\n",
    "\n",
    "define rays for plotting and optimization\n",
    "\n",
    "add elements\n",
    "\n",
    "effective length correction not implemented yet. Only works if there is a drift between each quad.\n",
    "\n",
    "calculate rays and maps for optimization\n",
    "\n",
    "optimize\n",
    "\n",
    "calculate rays and maps for plotting, plot"
   ]
  },
  {
   "cell_type": "code",
   "execution_count": 23,
   "metadata": {
    "scrolled": false
   },
   "outputs": [],
   "source": [
    "class Transport:\n",
    "    def __init__(self):\n",
    "        \n",
    "        self.ray_set = False # to raise exception of you try to plot or crunch without a ray\n",
    "        self.rays = {} # to store initial ray values\n",
    "        self.layer=0 #order of elements     \n",
    "        self.elements={} #store element info to adjust elements\n",
    "        self.column = [] #column configuration for calculations\n",
    "        self.map = np.identity(6) #total map\n",
    "        self.map_layers = [] #store the map state at each layer\n",
    "        \n",
    "    def set_kV(self, kV=100):\n",
    "        self.kV = kV\n",
    "        self.rel_kV = kV*(1+kV/1022)\n",
    "        self.mv = np.sqrt(2*511*self.rel_kV)*.000001 #(GeV/c)\n",
    "        self.Brho = 3.3356*self.mv \n",
    "        \n",
    "    def set_ray(self, label, x=0, x_angle=0, y=0, y_angle=0):\n",
    "        self.ray_set = True\n",
    "        ray = np.array([x, x_angle, y, y_angle, 0, 0])\n",
    "        ray_dict={}\n",
    "        ray_dict['init'] = ray\n",
    "        self.rays[label] = ray_dict\n",
    "        \n",
    "    def add_drift(self, label, length):\n",
    "        layer = self.layer\n",
    "        self.layer += 1\n",
    "        el_dict = {}\n",
    "        el_dict['layer'] = layer\n",
    "        el_dict['type'] = 'drift'\n",
    "        el_dict['length'] = length\n",
    "        self.elements[label] = el_dict\n",
    "            \n",
    "    def add_quad(self, label, length, gauss, radius, slices=8):\n",
    "        layer = self.layer\n",
    "        self.layer += 1\n",
    "        el_dict = {}\n",
    "        el_dict['layer'] = layer\n",
    "        el_dict['type'] = 'quad'\n",
    "        el_dict['length'] = length\n",
    "        el_dict['gauss'] = gauss\n",
    "        el_dict['radius'] = radius\n",
    "        el_dict['slices'] = slices\n",
    "        self.elements[label] = el_dict\n",
    "        \n",
    "    def eff_length(self):\n",
    "        return\n",
    "    \n",
    "    def crunch(self):\n",
    "        \n",
    "        self.column = [] #column configuration for calculations\n",
    "        self.map = np.identity(6).copy() #total map\n",
    "        self.map_layers = [] #store the map state at each layer\n",
    "        \n",
    "        for key in self.elements:\n",
    "            el = self.elements[key]\n",
    "            if el['type']=='drift':\n",
    "                drift_matrix = drift(el['length'])\n",
    "                self.map = drift_matrix@self.map\n",
    "                self.map_layers.append(self.map)\n",
    "                self.column.append([el['length'], drift_matrix])\n",
    "            if el['type'] == 'quad':      \n",
    "                quad_matrix = quad(el['length'], el['gauss'], self.Brho, 2*el['radius'])\n",
    "                self.map = quad_matrix@self.map\n",
    "                self.map_layers.append(self.map)\n",
    "                self.column.append([el['length'], quad_matrix])           \n",
    "            \n",
    "        \n",
    "        if self.ray_set:\n",
    "            for key in self.rays:\n",
    "\n",
    "                ray = self.rays[key]['init'].copy()\n",
    "\n",
    "                z = 0\n",
    "\n",
    "                ray_x = []\n",
    "                ray_y = []\n",
    "                ray_z = []\n",
    "\n",
    "                ray_x.append(ray[0])\n",
    "                ray_y.append(ray[2])\n",
    "                ray_z.append(z)\n",
    "\n",
    "                for el in self.column:\n",
    "\n",
    "                    length = el[0]\n",
    "                    matrix = el[1]\n",
    "\n",
    "                    z += length\n",
    "                    ray = matrix@ray\n",
    "\n",
    "                    ray_x.append(ray[0])\n",
    "                    ray_y.append(ray[2])\n",
    "                    ray_z.append(z)\n",
    "\n",
    "                self.rays[key]['x'] = ray_x\n",
    "                self.rays[key]['y'] = ray_y\n",
    "                self.rays[key]['z'] = ray_z\n",
    "        else:\n",
    "            print('no rays have been set')\n",
    "            \n",
    "    def ray_func(self, in_val, in_label, in_param, out_label, out_ray, out_axis):\n",
    "        self.elements[in_label][in_param] = in_val\n",
    "        self.crunch()\n",
    "        layer = self.elements[out_label]['layer']\n",
    "        return self.rays[out_ray][out_axis][layer]\n",
    "    \n",
    "    def ray_goal(self, goal, in_label, in_param, out_label, out_ray, out_axis): \n",
    "        def out(x): #just to make things more compact\n",
    "            put = self.ray_func(x, in_label=in_label, \n",
    "                                     in_param=in_param, \n",
    "                                     out_label=out_label, \n",
    "                                     out_ray=out_ray,\n",
    "                                     out_axis=out_axis)\n",
    "            return put-goal\n",
    "        x0 = self.elements[in_label][in_param]\n",
    "        root = optimize.newton(out, x0)\n",
    "        self.elements[in_label][in_param] = root\n",
    "        \n",
    "    def plot(self):\n",
    "        \n",
    "        if not self.ray_set:\n",
    "            \n",
    "            print('no rays have been set')\n",
    "            \n",
    "        #make column list:\n",
    "        \n",
    "        self.plot_column = []\n",
    "        \n",
    "        for key in self.elements:\n",
    "            el = self.elements[key]\n",
    "            if el['type']=='drift':\n",
    "                drift_matrix = drift(el['length'])\n",
    "                self.plot_column.append([el['length'], drift_matrix])\n",
    "            if el['type'] == 'quad':\n",
    "                for i in range(el['slices']):           \n",
    "                    quad_matrix = quad(el['length']/el['slices'], el['gauss'], self.Brho, 2*el['radius'])\n",
    "                    self.plot_column.append([el['length']/el['slices'], quad_matrix])\n",
    "                \n",
    "        \n",
    "        \n",
    "        for key in self.rays:\n",
    "            \n",
    "            ray = self.rays[key]['init'].copy()\n",
    "            \n",
    "            z = 0\n",
    "            \n",
    "            ray_x = []\n",
    "            ray_y = []\n",
    "            ray_z = []\n",
    "\n",
    "            ray_x.append(ray[0])\n",
    "            ray_y.append(ray[2])\n",
    "            ray_z.append(z)\n",
    "            \n",
    "            for el in self.plot_column:\n",
    "                \n",
    "                length = el[0]\n",
    "                matrix = el[1]\n",
    "                \n",
    "                z += length\n",
    "                ray = matrix@ray\n",
    "                \n",
    "                ray_x.append(ray[0])\n",
    "                ray_y.append(ray[2])\n",
    "                ray_z.append(z)\n",
    "                \n",
    "\n",
    "            plt.figure(figsize=[12,3])\n",
    "            plt.title(key)\n",
    "            plt.plot(ray_z, ray_x, label='x')\n",
    "            plt.plot(ray_z, ray_y, label='y')\n",
    "            plt.legend()\n",
    "        \n",
    "        \n",
    "\n",
    "        \n",
    "    "
   ]
  },
  {
   "cell_type": "code",
   "execution_count": 83,
   "metadata": {
    "scrolled": false
   },
   "outputs": [
    {
     "data": {
      "image/png": "[encoded data removed]",
      "text/plain": [
       "<matplotlib.figure.Figure at 0x244ea2b9390>"
      ]
     },
     "metadata": {
      "needs_background": "light"
     },
     "output_type": "display_data"
    },
    {
     "data": {
      "image/png": "[encoded data removed]",
      "text/plain": [
       "<matplotlib.figure.Figure at 0x244e9f769b0>"
      ]
     },
     "metadata": {
      "needs_background": "light"
     },
     "output_type": "display_data"
    }
   ],
   "source": [
    "traj1=Transport()\n",
    "\n",
    "traj1.set_kV(100)\n",
    "\n",
    "traj1.set_ray('axial', x_angle=1/0.6/342.9, y_angle=1/0.6/342.9)\n",
    "\n",
    "traj1.set_ray('field', x=.0001, y=0.0001)\n",
    "\n",
    "traj1.add_drift('drift1', length=.127)\n",
    "\n",
    "traj1.add_quad('quad1', length=.011, gauss=-.23, radius=.65)\n",
    "\n",
    "traj1.add_drift('drift2', length=.014)\n",
    "\n",
    "traj1.add_quad('quad2', length=.011, gauss=.40, radius=.65)\n",
    "\n",
    "traj1.add_drift('drift3', length=.014)\n",
    "\n",
    "traj1.add_quad('quad3', length=.011, gauss=-.23, radius=.65)\n",
    "\n",
    "traj1.add_drift('drift4', length=.2)\n",
    "traj1.add_drift('drift5', length=.002)\n",
    "\n",
    "# traj1.add_quad('quad4', length=.011, gauss=-.22, radius=.65)\n",
    "\n",
    "# traj1.add_drift('drift5', length=.014)\n",
    "\n",
    "# traj1.add_quad('quad5', length=.011, gauss=.4, radius=.65)\n",
    "\n",
    "# traj1.add_drift('drift6', length=.014)\n",
    "\n",
    "# traj1.add_quad('quad6', length=.011, gauss=-.22, radius=.65)\n",
    "\n",
    "# traj1.add_drift('drift7', length=.2)\n",
    "\n",
    "traj1.plot()"
   ]
  },
  {
   "cell_type": "code",
   "execution_count": 84,
   "metadata": {},
   "outputs": [
    {
     "data": {
      "image/png": "[encoded data removed]",
      "text/plain": [
       "<matplotlib.figure.Figure at 0x244e9eedba8>"
      ]
     },
     "metadata": {
      "needs_background": "light"
     },
     "output_type": "display_data"
    },
    {
     "data": {
      "image/png": "[encoded data removed]",
      "text/plain": [
       "<matplotlib.figure.Figure at 0x244ea2fcef0>"
      ]
     },
     "metadata": {
      "needs_background": "light"
     },
     "output_type": "display_data"
    }
   ],
   "source": [
    "# traj1.ray_goal(goal=0.0075,\n",
    "#                in_label='quad1', \n",
    "#                in_param='gauss', \n",
    "#                out_label='drift4', \n",
    "#                out_ray='axial', \n",
    "#                out_axis='y')\n",
    "\n",
    "traj1.ray_goal(goal=0.00075,\n",
    "               in_label='quad1', \n",
    "               in_param='gauss', \n",
    "               out_label='drift4', \n",
    "               out_ray='axial', \n",
    "               out_axis='x')\n",
    "\n",
    "traj1.ray_goal(goal=0,\n",
    "               in_label='quad3', \n",
    "               in_param='gauss', \n",
    "               out_label='drift5', \n",
    "               out_ray='axial', \n",
    "               out_axis='x')\n",
    "\n",
    "# traj1.ray_goal(goal=0.00075,\n",
    "#                in_label='quad2', \n",
    "#                in_param='gauss', \n",
    "#                out_label='drift4', \n",
    "#                out_ray='axial', \n",
    "#                out_axis='y')\n",
    "\n",
    "# traj1.ray_goal(goal=0,\n",
    "#                in_label='quad3', \n",
    "#                in_param='gauss', \n",
    "#                out_label='drift5', \n",
    "#                out_ray='axial', \n",
    "#                out_axis='y')\n",
    "\n",
    "traj1.plot()"
   ]
  },
  {
   "cell_type": "code",
   "execution_count": 58,
   "metadata": {},
   "outputs": [
    {
     "data": {
      "text/plain": [
       "7.838682442757607e-07"
      ]
     },
     "execution_count": 58,
     "metadata": {},
     "output_type": "execute_result"
    }
   ],
   "source": [
    "#     def ray_func(self, in_label, in_param, in_val, out_ray, out_axis):\n",
    "#         self.elements[in_label][in_param] = in_val\n",
    "#         self.crunch()\n",
    "        \n",
    "#         layer = self.elements[out_label]['layer']\n",
    "#         return self.rays[out_ray][out_axis][layer]\n",
    "\n",
    "traj1.ray_func(-0.41,in_label='quad2', \n",
    "               in_param='gauss',  \n",
    "               out_label='quad3', \n",
    "               out_ray='axial', \n",
    "               out_axis='y')"
   ]
  },
  {
   "cell_type": "code",
   "execution_count": 34,
   "metadata": {},
   "outputs": [
    {
     "data": {
      "text/plain": [
       "[0.0,\n",
       " 0.000617283950617284,\n",
       " 0.0007298320246604874,\n",
       " 0.0009526330619928415,\n",
       " 0.0009823360723882932,\n",
       " 0.000833277698389508,\n",
       " 0.0007545961105717136,\n",
       " 3.5540147214074835e-16,\n",
       " -7.545961105358181e-06]"
      ]
     },
     "execution_count": 34,
     "metadata": {},
     "output_type": "execute_result"
    }
   ],
   "source": [
    "traj1.elements['quad1']['gauss']=-.22\n",
    "traj1.crunch()\n",
    "traj1.rays['axial']['x']"
   ]
  },
  {
   "cell_type": "code",
   "execution_count": 183,
   "metadata": {},
   "outputs": [
    {
     "data": {
      "text/plain": [
       "[0.0,\n",
       " 0.000617283950617284,\n",
       " 0.0007325598805253513,\n",
       " 0.0009626127131289001,\n",
       " 0.0013229584331425656,\n",
       " 0.0020361089536684606,\n",
       " 0.0028127026361988907,\n",
       " 0.021314074089780484]"
      ]
     },
     "execution_count": 183,
     "metadata": {},
     "output_type": "execute_result"
    }
   ],
   "source": [
    "traj1.elements['quad1']['gauss']=-.23\n",
    "traj1.crunch()\n",
    "traj1.rays['axial']['x']"
   ]
  },
  {
   "cell_type": "code",
   "execution_count": 184,
   "metadata": {
    "scrolled": false
   },
   "outputs": [
    {
     "name": "stdout",
     "output_type": "stream",
     "text": [
      "-0.23\n"
     ]
    }
   ],
   "source": [
    "traj1.elements['quad1']['gauss']=-.23\n",
    "\n",
    "traj1.crunch()\n",
    "\n",
    "print(traj1.elements['quad1']['gauss'])"
   ]
  }
 ],
 "metadata": {
  "kernelspec": {
   "display_name": "Python 3",
   "language": "python",
   "name": "python3"
  },
  "language_info": {
   "codemirror_mode": {
    "name": "ipython",
    "version": 3
   },
   "file_extension": ".py",
   "mimetype": "text/x-python",
   "name": "python",
   "nbconvert_exporter": "python",
   "pygments_lexer": "ipython3",
   "version": "3.6.6"
  }
 },
 "nbformat": 4,
 "nbformat_minor": 2
}
